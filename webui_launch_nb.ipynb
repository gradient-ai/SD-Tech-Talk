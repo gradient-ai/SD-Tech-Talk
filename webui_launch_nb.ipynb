{
 "cells": [
  {
   "cell_type": "code",
   "execution_count": 1,
   "id": "31e1c7d9-3c79-4979-aed6-5e4530df0595",
   "metadata": {
    "execution": {
     "iopub.execute_input": "2022-10-06T23:26:09.161430Z",
     "iopub.status.busy": "2022-10-06T23:26:09.160619Z",
     "iopub.status.idle": "2022-10-06T23:26:12.683886Z",
     "shell.execute_reply": "2022-10-06T23:26:12.683013Z",
     "shell.execute_reply.started": "2022-10-06T23:26:09.161364Z"
    }
   },
   "outputs": [
    {
     "name": "stdout",
     "output_type": "stream",
     "text": [
      "[Errno 2] No such file or directory: 'stable-diffusion-webui'\n",
      "/notebooks/stable-diffusion-webui\n"
     ]
    }
   ],
   "source": [
    "%cd stable-diffusion-webui\n",
    "!mv ../sd-v1-4.ckpt models/\n",
    "\n"
   ]
  },
  {
   "cell_type": "code",
   "execution_count": 4,
   "id": "8a385649-8182-4c13-bb19-67ac20a033e8",
   "metadata": {
    "execution": {
     "iopub.execute_input": "2022-10-06T23:29:12.688092Z",
     "iopub.status.busy": "2022-10-06T23:29:12.687549Z",
     "iopub.status.idle": "2022-10-06T23:29:12.690805Z",
     "shell.execute_reply": "2022-10-06T23:29:12.690397Z",
     "shell.execute_reply.started": "2022-10-06T23:29:12.688070Z"
    }
   },
   "outputs": [],
   "source": [
    "!python launch.py --share"
   ]
  },
  {
   "cell_type": "code",
   "execution_count": null,
   "id": "4d15898a-0058-4ac7-ae13-37f904861a97",
   "metadata": {},
   "outputs": [],
   "source": []
  }
 ],
 "metadata": {
  "kernelspec": {
   "display_name": "Python 3 (ipykernel)",
   "language": "python",
   "name": "python3"
  },
  "language_info": {
   "codemirror_mode": {
    "name": "ipython",
    "version": 3
   },
   "file_extension": ".py",
   "mimetype": "text/x-python",
   "name": "python",
   "nbconvert_exporter": "python",
   "pygments_lexer": "ipython3",
   "version": "3.9.13"
  }
 },
 "nbformat": 4,
 "nbformat_minor": 5
}
